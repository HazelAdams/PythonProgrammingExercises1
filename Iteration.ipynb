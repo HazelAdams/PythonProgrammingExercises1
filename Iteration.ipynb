{
 "cells": [
  {
   "cell_type": "markdown",
   "metadata": {},
   "source": [
    "# FOR and WHILE loops"
   ]
  },
  {
   "cell_type": "markdown",
   "metadata": {},
   "source": [
    "## FOR"
   ]
  },
  {
   "cell_type": "code",
   "execution_count": 23,
   "metadata": {},
   "outputs": [
    {
     "name": "stdout",
     "output_type": "stream",
     "text": [
      "0 1 2 3 4 5 6 7 8 9 10 11 12 13 14 15 16 17 18 19 20 21 22 23 24 25 26 27 28 29 30 31 32 33 34 35 36 37 38 39 40 41 42 43 44 45 46 47 48 49 50 51 52 53 54 55 56 57 58 59 60 61 62 63 64 65 66 67 68 69 70 71 72 73 74 75 76 77 78 79 80 81 82 83 84 85 86 87 88 89 90 91 92 93 94 95 96 97 98 99 100 "
     ]
    }
   ],
   "source": [
    "for counter in range (0,101):\n",
    "    print(counter,end=\" \")"
   ]
  },
  {
   "cell_type": "code",
   "execution_count": 45,
   "metadata": {},
   "outputs": [
    {
     "name": "stdout",
     "output_type": "stream",
     "text": [
      "0*1*2*3*4*5*6*7*8*9*10*11*12*13*14*15*16*17*18*19*20*21*22*23*24*25*26*27*28*29*30*31*32*33*34*35*36*37*38*39*40*41*42*43*44*45*46*47*48*49*50*51*52*53*54*55*56*57*58*59*60*61*62*63*64*65*66*67*68*69*70*71*72*73*74*75*76*77*78*79*80*81*82*83*84*85*86*87*88*89*90*91*92*93*94*95*96*97*98*99*100*"
     ]
    }
   ],
   "source": [
    "for counter in range (0,101):\n",
    "    print(counter,end=\"*\")"
   ]
  },
  {
   "cell_type": "code",
   "execution_count": 49,
   "metadata": {},
   "outputs": [
    {
     "name": "stdout",
     "output_type": "stream",
     "text": [
      "10 8 6 4 2 "
     ]
    }
   ],
   "source": [
    "for counter in range (10,0,-2):\n",
    "    print(counter,end=\" \")"
   ]
  },
  {
   "cell_type": "code",
   "execution_count": 50,
   "metadata": {
    "collapsed": true
   },
   "outputs": [],
   "source": [
    "# this gives no output\n",
    "# this is a logical error - a programmer error\n",
    "# not a syntax error\n",
    "for counter in range (1,100,-1):\n",
    "    print(counter,end=\".\")"
   ]
  },
  {
   "cell_type": "markdown",
   "metadata": {},
   "source": [
    "## WHILE"
   ]
  },
  {
   "cell_type": "code",
   "execution_count": 52,
   "metadata": {},
   "outputs": [
    {
     "name": "stdout",
     "output_type": "stream",
     "text": [
      "do you want to continue? press S to stop s\n"
     ]
    }
   ],
   "source": [
    "loopVar = \"x\" #I-nitialise\n",
    "while loopVar != \"s\": #T-est\n",
    "    loopVar = input(\"do you want to continue? press S to stop \") #C-hange"
   ]
  },
  {
   "cell_type": "code",
   "execution_count": 90,
   "metadata": {},
   "outputs": [
    {
     "name": "stdout",
     "output_type": "stream",
     "text": [
      "You did not win this time but you have  4  lives left\n",
      "You did not win this time but you have  3  lives left\n",
      "You did not win this time but you have  2  lives left\n",
      "You did not win this time but you have  1  lives left\n",
      "You did not win this time but you have  0  lives left\n",
      "sorry you lost the game\n"
     ]
    }
   ],
   "source": [
    "import random\n",
    "\n",
    "won = False #at the begining of the game, no one has won\n",
    "lives = 5 #you start with 5 lives\n",
    "\n",
    "while not won and lives > 0:\n",
    "    lives = lives -1 #lose a life on each round\n",
    "    x = random.randint(0,10)\n",
    "    if x == 10:\n",
    "        won = True\n",
    "        print(\"Yay, you have won!\")\n",
    "    else:\n",
    "        print(\"You did not win this time but you have \", lives, \" lives left\")\n",
    "\n",
    "# after the loop is finished this code runs\n",
    "if lives == 0:\n",
    "    print(\"sorry you lost the game\")"
   ]
  }
 ],
 "metadata": {
  "kernelspec": {
   "display_name": "Python 3",
   "language": "python",
   "name": "python3"
  },
  "language_info": {
   "codemirror_mode": {
    "name": "ipython",
    "version": 3
   },
   "file_extension": ".py",
   "mimetype": "text/x-python",
   "name": "python",
   "nbconvert_exporter": "python",
   "pygments_lexer": "ipython3",
   "version": "3.5.2"
  }
 },
 "nbformat": 4,
 "nbformat_minor": 2
}

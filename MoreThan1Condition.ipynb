{
 "cells": [
  {
   "cell_type": "markdown",
   "metadata": {},
   "source": [
    "# More than 1 Condition\n",
    "\n",
    "Using booleans and more than one condition"
   ]
  },
  {
   "cell_type": "code",
   "execution_count": 29,
   "metadata": {},
   "outputs": [
    {
     "name": "stdout",
     "output_type": "stream",
     "text": [
      "uh hi? I dont know who you are\n",
      "Congrats!\n"
     ]
    }
   ],
   "source": [
    "name = \"dave\"\n",
    "age = 8\n",
    "wonGame = True\n",
    "\n",
    "if age > 10 and name == \"Hazel\":\n",
    "    print(\"Hey best friend\")\n",
    "#If the age is higher than 10 and the name is Hazel, a string will read \"\"Hey best friend\"\n",
    "\n",
    "elif age < 10 and name == \"Hazel\":\n",
    "    print(\"Nice name but i dont think your age is suitable\")\n",
    "#If the age is less than 10 and the name is \"Hazel\", a string will read \"Nice name but i dont think your age is suitable\"\n",
    "\n",
    "else:\n",
    "    print(\"uh hi? I dont know who you are\")\n",
    "#If the name isnt \"Hazel\", a sring will read \"uh hi? I dont know who you are\"\n",
    "#I dont know how to say 'If the name isnt \"Hazel\" but the age is higher than 10, print\n",
    "\n",
    "#another example\n",
    "if (age < 100) and age >50 :\n",
    "    print(\"Damn you old\" )\n",
    "    \n",
    "#when you test Booleans you don’t have to check equality to True or False\n",
    "#they ARE True or False themselves\n",
    "if not wonGame:\n",
    "    print(\"Better luck next time\")\n",
    "#If the game is false for winning, you lost the game, then a string will read \"Better luck next time\"\n",
    "else:\n",
    "    print(\"Congrats!\")\n",
    "#If the game is true for winning, you won the game, then a string will read \"Congrats!\""
   ]
  }
 ],
 "metadata": {
  "kernelspec": {
   "display_name": "Python 3",
   "language": "python",
   "name": "python3"
  },
  "language_info": {
   "codemirror_mode": {
    "name": "ipython",
    "version": 3
   },
   "file_extension": ".py",
   "mimetype": "text/x-python",
   "name": "python",
   "nbconvert_exporter": "python",
   "pygments_lexer": "ipython3",
   "version": "3.5.2"
  }
 },
 "nbformat": 4,
 "nbformat_minor": 2
}

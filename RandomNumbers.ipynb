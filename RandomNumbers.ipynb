{
 "cells": [
  {
   "cell_type": "markdown",
   "metadata": {},
   "source": [
    "# Random numbers in Python\n",
    "\n",
    "Python has a LIBRARY (import random) for generating random numbers"
   ]
  },
  {
   "cell_type": "code",
   "execution_count": 16,
   "metadata": {},
   "outputs": [
    {
     "name": "stdout",
     "output_type": "stream",
     "text": [
      "Your number is 82\n"
     ]
    }
   ],
   "source": [
    "from random import randint\n",
    "# import the module from random. you do not have to mention the module for randint function\n",
    "num = randint(0,100)\n",
    "# within brackets is the range\n",
    "\n",
    "print('Your number is', num)\n"
   ]
  },
  {
   "cell_type": "markdown",
   "metadata": {
    "collapsed": true
   },
   "source": [
    "## Task 1:  Simulate one dice roll in Python\n"
   ]
  },
  {
   "cell_type": "code",
   "execution_count": 19,
   "metadata": {},
   "outputs": [
    {
     "name": "stdout",
     "output_type": "stream",
     "text": [
      "6\n"
     ]
    }
   ],
   "source": [
    "diceRoll=randint(1,6)\n",
    "print(diceRoll)"
   ]
  },
  {
   "cell_type": "code",
   "execution_count": 67,
   "metadata": {},
   "outputs": [
    {
     "name": "stdout",
     "output_type": "stream",
     "text": [
      "Your dice reads a 3\n"
     ]
    }
   ],
   "source": [
    "# unnecesarilly fancy\n",
    "# did not import this specifically so i have to state the module\n",
    "diceRoll=random.randrange(1,7)\n",
    "# The stop value must be one higher than the highest number you want\n",
    "print('Your dice reads a', diceRoll)"
   ]
  }
 ],
 "metadata": {
  "kernelspec": {
   "display_name": "Python 3",
   "language": "python",
   "name": "python3"
  },
  "language_info": {
   "codemirror_mode": {
    "name": "ipython",
    "version": 3
   },
   "file_extension": ".py",
   "mimetype": "text/x-python",
   "name": "python",
   "nbconvert_exporter": "python",
   "pygments_lexer": "ipython3",
   "version": "3.5.2"
  }
 },
 "nbformat": 4,
 "nbformat_minor": 2
}
